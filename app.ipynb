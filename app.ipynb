{
 "cells": [
  {
   "cell_type": "code",
   "execution_count": 1,
   "metadata": {},
   "outputs": [
    {
     "name": "stderr",
     "output_type": "stream",
     "text": [
      "c:\\Users\\KIRTIREKHA\\Documents\\College\\ML proj\\WISE_203\\.venv\\Lib\\site-packages\\tqdm\\auto.py:21: TqdmWarning: IProgress not found. Please update jupyter and ipywidgets. See https://ipywidgets.readthedocs.io/en/stable/user_install.html\n",
      "  from .autonotebook import tqdm as notebook_tqdm\n"
     ]
    },
    {
     "name": "stdout",
     "output_type": "stream",
     "text": [
      "Running on local URL:  http://127.0.0.1:7860\n",
      "Running on public URL: https://d64ac651aca09233c5.gradio.live\n",
      "\n",
      "This share link expires in 72 hours. For free permanent hosting and GPU upgrades (NEW!), check out Spaces: https://huggingface.co/spaces\n"
     ]
    },
    {
     "data": {
      "text/html": [
       "<div><iframe src=\"https://d64ac651aca09233c5.gradio.live\" width=\"100%\" height=\"500\" allow=\"autoplay; camera; microphone; clipboard-read; clipboard-write;\" frameborder=\"0\" allowfullscreen></iframe></div>"
      ],
      "text/plain": [
       "<IPython.core.display.HTML object>"
      ]
     },
     "metadata": {},
     "output_type": "display_data"
    },
    {
     "data": {
      "text/plain": []
     },
     "execution_count": 1,
     "metadata": {},
     "output_type": "execute_result"
    },
    {
     "name": "stderr",
     "output_type": "stream",
     "text": [
      "we have com\n"
     ]
    },
    {
     "name": "stdout",
     "output_type": "stream",
     "text": [
      "[[ 1  1  1  1  1  1  1 -1  1  1  1  0 -1  1  1 -1  1 -1 -1  1  1]]\n"
     ]
    }
   ],
   "source": [
    "import gradio as gr\n",
    "import numpy as np\n",
    "import joblib\n",
    "from extractor import main\n",
    "import sys\n",
    "\n",
    "MODEL_PATH = \"model\\RandomForestClassifier.pkl\"\n",
    "\n",
    "\n",
    "\n",
    "# Define a function to make predictions\n",
    "def predict_phishing_website(url):\n",
    "    features = main(url)\n",
    "    features = np.array(features).reshape((1, -1))\n",
    "    model = joblib.load(MODEL_PATH)\n",
    "    print(features)\n",
    "    return int(model.predict(features)[0]) \n",
    "\n",
    "# Create a Gradio interface\n",
    "gr.Interface(fn=predict_phishing_website, \n",
    "             inputs=\"text\", \n",
    "             outputs=\"text\", \n",
    "             title=\"Phishing Website Detector\",\n",
    "             description=\"Enter a website URL to determine whether it's safe or phishing\").launch(share = True)"
   ]
  }
 ],
 "metadata": {
  "kernelspec": {
   "display_name": ".venv",
   "language": "python",
   "name": "python3"
  },
  "language_info": {
   "codemirror_mode": {
    "name": "ipython",
    "version": 3
   },
   "file_extension": ".py",
   "mimetype": "text/x-python",
   "name": "python",
   "nbconvert_exporter": "python",
   "pygments_lexer": "ipython3",
   "version": "3.11.2"
  },
  "orig_nbformat": 4,
  "vscode": {
   "interpreter": {
    "hash": "6879ac9534aa8e54d3e2c9d1f24ea883277559342f01c791ed20d05a45bf3922"
   }
  }
 },
 "nbformat": 4,
 "nbformat_minor": 2
}
